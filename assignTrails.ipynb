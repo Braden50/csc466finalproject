{
 "cells": [
  {
   "cell_type": "code",
   "execution_count": null,
   "metadata": {},
   "outputs": [],
   "source": []
  },
  {
   "cell_type": "code",
   "execution_count": 1,
   "metadata": {},
   "outputs": [],
   "source": [
    "import os\n",
    "import json\n",
    "import time\n",
    "import math\n",
    "import copy\n",
    "import pandas as pd\n",
    "import numpy as np\n",
    "\n",
    "\n",
    "class Haversine:\n",
    "    '''\n",
    "    from: https://nathanrooy.github.io/posts/2016-09-07/haversine-with-python/\n",
    "\n",
    "    use the haversine class to calculate the distance between\n",
    "    two lon/lat coordnate pairs.\n",
    "    output distance available in kilometers, meters, miles, and feet.\n",
    "    example usage: Haversine([lon1,lat1],[lon2,lat2]).feet\n",
    "    \n",
    "    '''\n",
    "    def __init__(self,coord1,coord2):\n",
    "        lon1,lat1=coord1\n",
    "        lon2,lat2=coord2\n",
    "        \n",
    "        R=6371000                               # radius of Earth in meters\n",
    "        phi_1=math.radians(lat1)\n",
    "        phi_2=math.radians(lat2)\n",
    "\n",
    "        delta_phi=math.radians(lat2-lat1)\n",
    "        delta_lambda=math.radians(lon2-lon1)\n",
    "\n",
    "        a=math.sin(delta_phi/2.0)**2+\\\n",
    "           math.cos(phi_1)*math.cos(phi_2)*\\\n",
    "           math.sin(delta_lambda/2.0)**2\n",
    "        c=2*math.atan2(math.sqrt(a),math.sqrt(1-a))\n",
    "        \n",
    "        self.meters=R*c                         # output distance in meters\n",
    "        self.km=self.meters/1000.0              # output distance in kilometers\n",
    "        self.miles=self.meters*0.000621371      # output distance in miles\n",
    "        self.feet=self.miles*5280               # output distance in feet\n",
    "    \n",
    "    \n",
    "    def withinTolerance(self, tolerance):\n",
    "        if self.meters <= tolerance:\n",
    "            return True\n",
    "        else:\n",
    "            return False\n",
    "        \n",
    "np_loc = \"national_parks.csv\"\n",
    "trails_loc = \"nationalparktrails.csv\"\n",
    "hotels_loc = \"7282_1.csv\"\n",
    "\n"
   ]
  },
  {
   "cell_type": "code",
   "execution_count": 2,
   "metadata": {},
   "outputs": [],
   "source": [
    "np_df = pd.read_csv(np_loc)\n",
    "trails_df = pd.read_csv(trails_loc)\n",
    "hotels_df = pd.read_csv(hotels_loc)"
   ]
  },
  {
   "cell_type": "code",
   "execution_count": 3,
   "metadata": {},
   "outputs": [
    {
     "name": "stdout",
     "output_type": "stream",
     "text": [
      "0.1627689429373246% of hotels (174) are near national parks\n"
     ]
    },
    {
     "data": {
      "text/plain": [
       "0        False\n",
       "1        False\n",
       "2        False\n",
       "3        False\n",
       "4        False\n",
       "         ...  \n",
       "35907     True\n",
       "35908     True\n",
       "35909     True\n",
       "35910    False\n",
       "35911    False\n",
       "Name: nearby, Length: 35912, dtype: bool"
      ]
     },
     "execution_count": 3,
     "metadata": {},
     "output_type": "execute_result"
    }
   ],
   "source": [
    "# ref:\n",
    "# Area of zion national park: 229.1 mi²\n",
    "# This translates to the average length of 24,359 in meters\n",
    "\n",
    "TOLERANCE = 80467.2  # 50 miles\n",
    "\n",
    "\n",
    "def assignParksToHotels(hotels_df, np_df):\n",
    "    '''\n",
    "    hotels_df = dataframe of initial hotels data\n",
    "    np_df = dataframe of initial national park\n",
    "    \n",
    "    Assigned park ids to a hotel \n",
    "    '''\n",
    "    nearby = []\n",
    "    additional = []\n",
    "    hotels_record = {}\n",
    "    for i, hotel_row in hotels_df.iterrows():\n",
    "        hotel_coords = [hotel_row['longitude'], hotel_row['latitude']]\n",
    "        hotel_key = hash(hotel_row['longitude']) + 11 * hotel_row['latitude']\n",
    "        if hotel_key in hotels_record:     # To reference old computation bc multiple reviews exist for same hotel\n",
    "            nearby.append(hotels_record[hotel_key])\n",
    "            continue\n",
    "        nearby_np = []\n",
    "        for j, np_row in np_df.iterrows():\n",
    "            np_coords = [np_row['coordinates/longitude'], np_row['coordinates/latitude']]\n",
    "            np_radius = math.sqrt(float(np_row['area/square_km'].replace(\",\",\"\"))) * 1000  # Radius of park in meters\n",
    "            H = Haversine(hotel_coords, np_coords)\n",
    "            if H.withinTolerance(TOLERANCE + np_radius):\n",
    "                temp_nearby = {\n",
    "                    'id': np_row['id'],\n",
    "                    'dist': H.meters - np_radius\n",
    "                }\n",
    "                nearby_np.append(temp_nearby)\n",
    "        if len(nearby_np) == 0:\n",
    "            nearby.append(np.nan)\n",
    "            hotels_record[hotel_key] = np.nan\n",
    "        elif len(nearby_np) == 1:\n",
    "            nearby.append(nearby_np[0]['id'])\n",
    "            hotels_record[hotel_key] = nearby_np[0]['id']\n",
    "        else: # more than 1 nearby national parks\n",
    "            nearby_np.sort(key=lambda x: x['dist'])\n",
    "            nearby.append(nearby_np[0]['id'])\n",
    "            hotels_record[hotel_key] = nearby_np[0]['id']\n",
    "    \n",
    "    hotels_df['nearby'] = nearby    \n",
    "    assignments = list(hotels_record.values())    \n",
    "    total_num = len(assignments)\n",
    "    total_unassigned = assignments.count(np.nan)\n",
    "    print(f\"{(total_num - total_unassigned) / total_num}% of hotels ({total_num - total_unassigned}) are near national parks\")\n",
    "    \n",
    "        \n",
    "\n",
    "        \n",
    "assignParksToHotels(hotels_df, np_df)\n",
    "\n",
    "hotels_df\n",
    "hotels_df['nearby'].notna()\n",
    "\n",
    "\n",
    "            \n",
    "        \n",
    "            \n",
    "            \n",
    "        \n",
    "        \n",
    "    \n",
    "    \n",
    "    "
   ]
  },
  {
   "cell_type": "code",
   "execution_count": 52,
   "metadata": {},
   "outputs": [
    {
     "data": {
      "text/plain": [
       "0        False\n",
       "1        False\n",
       "2        False\n",
       "3        False\n",
       "4        False\n",
       "         ...  \n",
       "35907     True\n",
       "35908     True\n",
       "35909     True\n",
       "35910    False\n",
       "35911    False\n",
       "Name: nearby, Length: 35912, dtype: bool"
      ]
     },
     "execution_count": 52,
     "metadata": {},
     "output_type": "execute_result"
    }
   ],
   "source": [
    "\n",
    "\n"
   ]
  },
  {
   "cell_type": "code",
   "execution_count": null,
   "metadata": {},
   "outputs": [],
   "source": []
  }
 ],
 "metadata": {
  "kernelspec": {
   "display_name": "Python 3",
   "language": "python",
   "name": "python3"
  },
  "language_info": {
   "codemirror_mode": {
    "name": "ipython",
    "version": 3
   },
   "file_extension": ".py",
   "mimetype": "text/x-python",
   "name": "python",
   "nbconvert_exporter": "python",
   "pygments_lexer": "ipython3",
   "version": "3.8.5"
  }
 },
 "nbformat": 4,
 "nbformat_minor": 4
}
